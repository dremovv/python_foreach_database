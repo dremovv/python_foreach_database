{
 "cells": [
  {
   "cell_type": "code",
   "execution_count": 1,
   "metadata": {
    "pycharm": {
     "is_executing": false
    }
   },
   "outputs": [],
   "source": [
    "import sys\n",
    "# path to MindboxMLLibrary repository\n",
    "sys.path.append(r'C:\\users\\dremov\\MindboxMLLibrary')\n",
    "\n",
    "import foreach_utils"
   ]
  },
  {
   "cell_type": "code",
   "execution_count": 4,
   "metadata": {},
   "outputs": [
    {
     "name": "stderr",
     "output_type": "stream",
     "text": [
      "2020/04/10 11:43:44 root | loading dcrm_projects | started\n",
      "2020/04/10 11:43:44 root | loading dcrm_projects | _construct_dataframe | started\n",
      "2020/04/10 11:43:44 root | loading dcrm_projects | _construct_dataframe | stopped | 0.001489\n",
      "2020/04/10 11:43:44 root | loading dcrm_projects | stopped | 0.037090\n",
      "2020/04/10 14:43:44 DataFrame \"query_name: 'dcrm_projects', query_parameters: 'None'\": shape = (377, 2), size 53.2 KB\n",
      "  0%|                                                                                            | 0/1 [00:00<?, ?it/s]MoiGlaza\n",
      "2020/04/10 11:43:44 root | loading __temp_query | started\n",
      "2020/04/10 11:43:44 root | loading __temp_query | _construct_dataframe | started\n",
      "2020/04/10 11:43:44 root | loading __temp_query | _construct_dataframe | stopped | 0.001813\n",
      "2020/04/10 11:43:44 root | loading __temp_query | stopped | 0.045065\n",
      "2020/04/10 14:43:44 DataFrame \"query_name: '__temp_query', query_parameters: 'None'\": shape = (3, 2), size 152 bytes\n",
      "100%|████████████████████████████████████████████████████████████████████████████████████| 1/1 [00:00<00:00, 18.91it/s]\n"
     ]
    }
   ],
   "source": [
    "sql_query = \"\"\"\n",
    "    SELECT TOP (3)\n",
    "        Id AS CustomerId,\n",
    "        NULL AS NullColumn\n",
    "    FROM\n",
    "        directcrm.Customers\n",
    "\"\"\"\n",
    "# удалите строку с use_projects_fraction=0.01\n",
    "# чтобы считать для всех проектов\n",
    "results = foreach_utils.run_foreach_project(\n",
    "    sql_query,\n",
    "    use_projects_fraction=0.002,\n",
    ")"
   ]
  },
  {
   "cell_type": "code",
   "execution_count": 5,
   "metadata": {},
   "outputs": [],
   "source": [
    "merged = foreach_utils.merge_results(results)\n",
    "output_filename = 'results.csv'\n",
    "merged.to_csv(output_filename, index=False)"
   ]
  }
 ],
 "metadata": {
  "kernelspec": {
   "display_name": "Python 3",
   "language": "python",
   "name": "python3"
  },
  "language_info": {
   "codemirror_mode": {
    "name": "ipython",
    "version": 3
   },
   "file_extension": ".py",
   "mimetype": "text/x-python",
   "name": "python",
   "nbconvert_exporter": "python",
   "pygments_lexer": "ipython3",
   "version": "3.6.5"
  },
  "pycharm": {
   "stem_cell": {
    "cell_type": "raw",
    "metadata": {
     "collapsed": false
    },
    "source": []
   }
  }
 },
 "nbformat": 4,
 "nbformat_minor": 2
}
